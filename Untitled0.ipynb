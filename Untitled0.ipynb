{
  "nbformat": 4,
  "nbformat_minor": 0,
  "metadata": {
    "colab": {
      "provenance": [],
      "authorship_tag": "ABX9TyN00O07P74PKlkD+ZUxknBK",
      "include_colab_link": true
    },
    "kernelspec": {
      "name": "python3",
      "display_name": "Python 3"
    },
    "language_info": {
      "name": "python"
    }
  },
  "cells": [
    {
      "cell_type": "markdown",
      "metadata": {
        "id": "view-in-github",
        "colab_type": "text"
      },
      "source": [
        "<a href=\"https://colab.research.google.com/github/EngConstance/DEMO/blob/main/Untitled0.ipynb\" target=\"_parent\"><img src=\"https://colab.research.google.com/assets/colab-badge.svg\" alt=\"Open In Colab\"/></a>"
      ]
    },
    {
      "cell_type": "code",
      "execution_count": 1,
      "metadata": {
        "colab": {
          "base_uri": "https://localhost:8080/"
        },
        "id": "YwRVp0X29nzD",
        "outputId": "b93b8cf5-7d4b-4b9d-a769-9cc8caebc6bb"
      },
      "outputs": [
        {
          "output_type": "execute_result",
          "data": {
            "text/plain": [
              "40.0"
            ]
          },
          "metadata": {},
          "execution_count": 1
        }
      ],
      "source": [
        "x = 23.0\n",
        "y = 17\n",
        "\n",
        "x + y"
      ]
    },
    {
      "cell_type": "code",
      "source": [
        "z = 'constance is 12 years old. '\n",
        "w = 'constance is running late, again!'\n",
        "\n",
        "z + w"
      ],
      "metadata": {
        "colab": {
          "base_uri": "https://localhost:8080/",
          "height": 35
        },
        "id": "Q7-lG9MI_qmu",
        "outputId": "f58019d3-637e-473d-cba2-bd3da6990c4d"
      },
      "execution_count": 3,
      "outputs": [
        {
          "output_type": "execute_result",
          "data": {
            "text/plain": [
              "'constance is 12 years old. constance is running late, again!'"
            ],
            "application/vnd.google.colaboratory.intrinsic+json": {
              "type": "string"
            }
          },
          "metadata": {},
          "execution_count": 3
        }
      ]
    },
    {
      "cell_type": "code",
      "source": [
        "# income: $\n",
        "monthly_income = 5000\n",
        "\n",
        "#Taxes:\n",
        "tax_rate = 0.184\n",
        "\n",
        "# Expenses\n",
        "rent = 1200\n",
        "food = 320\n",
        "wifi = 100\n",
        "transport = 300\n",
        "misc = 400"
      ],
      "metadata": {
        "id": "Y08nHs6RETkZ"
      },
      "execution_count": 7,
      "outputs": []
    },
    {
      "cell_type": "code",
      "source": [
        "# income, after taxes:\n",
        "AT_income = monthly_income * (1-tax_rate)\n",
        "\n",
        "print(AT_income)"
      ],
      "metadata": {
        "colab": {
          "base_uri": "https://localhost:8080/"
        },
        "id": "iR236iAPClDX",
        "outputId": "45b7af75-7977-46a5-dfa4-a1a3b2d874c5"
      },
      "execution_count": 8,
      "outputs": [
        {
          "output_type": "stream",
          "name": "stdout",
          "text": [
            "4080.0000000000005\n"
          ]
        }
      ]
    },
    {
      "cell_type": "code",
      "source": [
        "# Total expenses\n",
        "\n",
        "expenses = rent + food + wifi + transport + misc\n",
        "print(expenses)"
      ],
      "metadata": {
        "colab": {
          "base_uri": "https://localhost:8080/"
        },
        "id": "jKzW4JDwDy2T",
        "outputId": "b22a72d3-80ee-431f-c0aa-60d977fb4e2d"
      },
      "execution_count": 9,
      "outputs": [
        {
          "output_type": "stream",
          "name": "stdout",
          "text": [
            "2320\n"
          ]
        }
      ]
    },
    {
      "cell_type": "code",
      "source": [
        "# what is left?\n",
        "AT_income - expenses\n"
      ],
      "metadata": {
        "colab": {
          "base_uri": "https://localhost:8080/"
        },
        "id": "ksU7Rx8zD6-t",
        "outputId": "7794a5bb-30ce-41e2-dfd4-885938b2c864"
      },
      "execution_count": 10,
      "outputs": [
        {
          "output_type": "execute_result",
          "data": {
            "text/plain": [
              "1760.0000000000005"
            ]
          },
          "metadata": {},
          "execution_count": 10
        }
      ]
    },
    {
      "cell_type": "code",
      "source": [
        "# Let's declare a new variable to store that value\n",
        "max_savings = AT_income - expenses\n",
        "\n",
        "# Now let's calculate how long it would take:\n",
        "\n",
        "# 2320 of expenses per month * 6 months = 13,920 this is emergency funds\n",
        "\n",
        "emergency_funds_worth_six_months_expense = expense * 6\n",
        "\n",
        "months to save for planned emergency = emergency funds worth six months expense / max_savings\n",
        "\n",
        "print (\"we need {f} months\".format(f = months to save for planned emergency))"
      ],
      "metadata": {
        "colab": {
          "base_uri": "https://localhost:8080/",
          "height": 130
        },
        "id": "Bv9SiI7xDh2X",
        "outputId": "fc4474c8-d0a1-4cfb-cf3a-047446a54458"
      },
      "execution_count": 12,
      "outputs": [
        {
          "output_type": "error",
          "ename": "SyntaxError",
          "evalue": "ignored",
          "traceback": [
            "\u001b[0;36m  File \u001b[0;32m\"<ipython-input-12-892ef49490bd>\"\u001b[0;36m, line \u001b[0;32m10\u001b[0m\n\u001b[0;31m    months to save for planned emergency = emergency funds worth six months expense / max_savings\u001b[0m\n\u001b[0m           ^\u001b[0m\n\u001b[0;31mSyntaxError\u001b[0m\u001b[0;31m:\u001b[0m invalid syntax\n"
          ]
        }
      ]
    },
    {
      "cell_type": "code",
      "source": [
        "# Let's "
      ],
      "metadata": {
        "id": "evpwmeyOCRlf"
      },
      "execution_count": null,
      "outputs": []
    },
    {
      "cell_type": "code",
      "source": [],
      "metadata": {
        "id": "1VnDHatwKX1E"
      },
      "execution_count": null,
      "outputs": []
    }
  ]
}